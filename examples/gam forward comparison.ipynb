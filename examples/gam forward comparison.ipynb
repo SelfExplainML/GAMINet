{
 "cells": [
  {
   "cell_type": "code",
   "execution_count": 1,
   "metadata": {
    "ExecuteTime": {
     "end_time": "2021-09-14T10:25:13.283566Z",
     "start_time": "2021-09-14T10:25:10.356899Z"
    }
   },
   "outputs": [],
   "source": [
    "import torch\n",
    "import numpy as np\n",
    "import tensorflow as tf"
   ]
  },
  {
   "cell_type": "code",
   "execution_count": 2,
   "metadata": {
    "ExecuteTime": {
     "end_time": "2021-09-14T10:25:13.289290Z",
     "start_time": "2021-09-14T10:25:13.285908Z"
    }
   },
   "outputs": [],
   "source": [
    "n_nodes = 100\n",
    "n_epochs = 500\n",
    "n_features = 50\n",
    "n_samples = 200"
   ]
  },
  {
   "cell_type": "code",
   "execution_count": 3,
   "metadata": {
    "ExecuteTime": {
     "end_time": "2021-09-14T10:25:13.295257Z",
     "start_time": "2021-09-14T10:25:13.291519Z"
    }
   },
   "outputs": [],
   "source": [
    "x = np.random.uniform(size=(n_samples, n_features))\n",
    "y = np.mean(x, 1) ** 2"
   ]
  },
  {
   "cell_type": "markdown",
   "metadata": {},
   "source": [
    "## Tensorflow"
   ]
  },
  {
   "cell_type": "code",
   "execution_count": 4,
   "metadata": {
    "ExecuteTime": {
     "end_time": "2021-09-14T10:25:13.311252Z",
     "start_time": "2021-09-14T10:25:13.296797Z"
    }
   },
   "outputs": [],
   "source": [
    "class subNNtf(tf.keras.layers.Layer):\n",
    "\n",
    "    def __init__(self, n_hidden_nodes=100):\n",
    "        super(subNNtf, self).__init__()\n",
    "        self.lin1 = tf.keras.layers.Dense(n_hidden_nodes, activation=\"relu\", use_bias=False,\n",
    "                                            kernel_initializer=tf.keras.initializers.RandomUniform(-0.1, 0.1))\n",
    "        self.lin2 = tf.keras.layers.Dense(n_hidden_nodes, activation=\"relu\", use_bias=False,\n",
    "                                            kernel_initializer=tf.keras.initializers.RandomUniform(-0.1, 0.1))\n",
    "        self.lin3 = tf.keras.layers.Dense(1, activation=tf.identity, use_bias=False,\n",
    "                                            kernel_initializer=tf.keras.initializers.RandomUniform(-0.1, 0.1))\n",
    "\n",
    "    def call(self, inputs, sample_weight=None, training=False):\n",
    "        h1 = self.lin1(inputs)\n",
    "        h2 = self.lin2(h1)\n",
    "        h3 = self.lin3(h2)\n",
    "        return h3\n",
    "    \n",
    "class pyGAM1(tf.keras.Model):\n",
    "    \n",
    "    def __init__(self, K=50):\n",
    "        super(pyGAM1, self).__init__()\n",
    "        self.K = K\n",
    "        self.subnn = [subNNtf() for k in range(self.K)]\n",
    "        self.optimizer = tf.keras.optimizers.Adam()\n",
    "        self.loss_fn = tf.keras.losses.MeanSquaredError()\n",
    "\n",
    "    def __call__(self, inputs):\n",
    "        out = []\n",
    "        for k, subnn in enumerate(self.subnn):\n",
    "            xk = tf.gather(inputs, [k], axis=1)\n",
    "            out.append(subnn(xk))\n",
    "        return tf.reduce_sum(tf.squeeze(tf.stack(out, 1)), 1)\n",
    "    \n",
    "    @tf.function\n",
    "    def train(self, inputs, label):\n",
    "\n",
    "        with tf.GradientTape() as tape:\n",
    "            pred = self.__call__(inputs)\n",
    "            total_loss = self.loss_fn(label, pred)\n",
    "\n",
    "        grads = tape.gradient(total_loss, self.trainable_weights)\n",
    "        self.optimizer.apply_gradients(zip(grads, self.trainable_weights))\n",
    "        \n",
    "class pyGAM2(tf.keras.Model):\n",
    "    \n",
    "    def __init__(self, K=50):\n",
    "        super(pyGAM2, self).__init__()\n",
    "        self.K = K\n",
    "        self.tfw1 = self.add_weight(name=\"w1\", shape=[K, 1, n_nodes], trainable=True, dtype=tf.float32,\n",
    "                                    initializer=tf.keras.initializers.RandomUniform(-0.1, 0.1))\n",
    "        self.tfw2 = self.add_weight(name=\"w2\", shape=[K, n_nodes, n_nodes], trainable=True, dtype=tf.float32,\n",
    "                                    initializer=tf.keras.initializers.RandomUniform(-0.1, 0.1))\n",
    "        self.tfw3 = self.add_weight(name=\"w3\", shape=[K, n_nodes, 1], trainable=True, dtype=tf.float32,\n",
    "                                    initializer=tf.keras.initializers.RandomUniform(-0.1, 0.1))\n",
    "        self.optimizer = tf.keras.optimizers.Adam()\n",
    "        self.loss_fn = tf.keras.losses.MeanSquaredError()\n",
    "\n",
    "    def __call__(self, inputs):\n",
    "        inputs = tf.cast(inputs, tf.float32)\n",
    "        xs = tf.expand_dims(tf.transpose(inputs, [1, 0]), 2)\n",
    "        h1 = tf.nn.relu(tf.linalg.matmul(xs, self.tfw1))\n",
    "        h2 = tf.nn.relu(tf.linalg.matmul(h1, self.tfw2))\n",
    "        h3 = tf.linalg.matmul(h2, self.tfw3)\n",
    "        return tf.reduce_sum(tf.squeeze(tf.transpose(h3, [1, 0, 2])), 1)\n",
    "\n",
    "    @tf.function\n",
    "    def train(self, inputs, label):\n",
    "\n",
    "        with tf.GradientTape() as tape:\n",
    "            pred = self.__call__(inputs)\n",
    "            total_loss = self.loss_fn(label, pred)\n",
    "\n",
    "        grads = tape.gradient(total_loss, self.trainable_weights)\n",
    "        self.optimizer.apply_gradients(zip(grads, self.trainable_weights))"
   ]
  },
  {
   "cell_type": "code",
   "execution_count": 5,
   "metadata": {
    "ExecuteTime": {
     "end_time": "2021-09-14T10:25:20.274515Z",
     "start_time": "2021-09-14T10:25:13.313720Z"
    }
   },
   "outputs": [
    {
     "name": "stdout",
     "output_type": "stream",
     "text": [
      "CPU times: user 41.8 s, sys: 5.51 s, total: 47.3 s\n",
      "Wall time: 6.96 s\n"
     ]
    }
   ],
   "source": [
    "%%time\n",
    "clf1 = pyGAM1(K=n_features)\n",
    "for i in range(n_epochs):\n",
    "    clf1.train(x, y)"
   ]
  },
  {
   "cell_type": "code",
   "execution_count": 6,
   "metadata": {
    "ExecuteTime": {
     "end_time": "2021-09-14T10:25:34.729476Z",
     "start_time": "2021-09-14T10:25:20.277778Z"
    }
   },
   "outputs": [
    {
     "name": "stdout",
     "output_type": "stream",
     "text": [
      "CPU times: user 37 s, sys: 11.2 s, total: 48.2 s\n",
      "Wall time: 14.4 s\n"
     ]
    }
   ],
   "source": [
    "%%time\n",
    "clf2 = pyGAM2(K=n_features)\n",
    "for i in range(n_epochs):\n",
    "    clf2.train(tf.cast(x, tf.float32), y)"
   ]
  },
  {
   "cell_type": "markdown",
   "metadata": {},
   "source": [
    "## Pytorch "
   ]
  },
  {
   "cell_type": "code",
   "execution_count": 7,
   "metadata": {
    "ExecuteTime": {
     "end_time": "2021-09-14T10:25:34.750961Z",
     "start_time": "2021-09-14T10:25:34.731855Z"
    }
   },
   "outputs": [],
   "source": [
    "import torch\n",
    "from torch.nn import Linear\n",
    "\n",
    "class subNN(torch.nn.Module):\n",
    "    \n",
    "    def __init__(self, n_hidden_nodes=100):\n",
    "        super(subNN, self).__init__()\n",
    "        self.lin1 = Linear(1, n_hidden_nodes, bias=False)\n",
    "        self.lin2 = Linear(n_hidden_nodes, n_hidden_nodes, bias=False)\n",
    "        self.lin3 = Linear(n_hidden_nodes, 1, bias=False)\n",
    "        torch.nn.init.uniform_(self.lin1.weight, -0.1, 0.1)\n",
    "        torch.nn.init.uniform_(self.lin2.weight, -0.1, 0.1)\n",
    "        torch.nn.init.uniform_(self.lin3.weight, -0.1, 0.1)\n",
    "        \n",
    "    def forward(self, inputs):\n",
    "        h1 = torch.relu(self.lin1(inputs))\n",
    "        h2 = torch.relu(self.lin2(h1))\n",
    "        h3 = self.lin3(h2)\n",
    "        return h3\n",
    "\n",
    "class pyGAM3(torch.nn.Module):\n",
    "    \n",
    "    def __init__(self, K=50, n_hidden_nodes=100, device=\"cpu\"):\n",
    "        super(pyGAM3, self).__init__()\n",
    "        self.K = K\n",
    "        self.subnn = torch.nn.ModuleList([subNN(n_hidden_nodes=n_hidden_nodes) for k in range(self.K)])\n",
    "        self.lossfn = torch.nn.MSELoss()\n",
    "        self.opt = torch.optim.Adam(self.parameters())\n",
    "        self.to(device)\n",
    "\n",
    "    def forward(self, inputs):\n",
    "        out = []\n",
    "        for k, subnn in enumerate(self.subnn):\n",
    "            xk = inputs[:, [k]]\n",
    "            out.append(subnn(xk))\n",
    "        return torch.sum(torch.squeeze(torch.stack(out, 1)), 1)\n",
    "        \n",
    "        \n",
    "class pyGAM4(torch.nn.Module):\n",
    "    \n",
    "    def __init__(self, K=50, n_hidden_nodes=100, device=\"cpu\"):\n",
    "        super(pyGAM4, self).__init__()\n",
    "        self.K = K\n",
    "        self.ww1 = torch.empty(size=(K, 1, n_hidden_nodes), dtype=torch.float,\n",
    "                                           requires_grad=True, device=device)\n",
    "        self.ww2 = torch.empty(size=(K, n_hidden_nodes, n_hidden_nodes), dtype=torch.float,\n",
    "                                           requires_grad=True, device=device)\n",
    "        self.ww3 = torch.empty(size=(K, n_hidden_nodes, 1), dtype=torch.float,\n",
    "                                           requires_grad=True, device=device)\n",
    "        \n",
    "        torch.nn.init.uniform_(self.ww1, -0.1, 0.1)\n",
    "        torch.nn.init.uniform_(self.ww2, -0.1, 0.1)\n",
    "        torch.nn.init.uniform_(self.ww3, -0.1, 0.1)\n",
    "        \n",
    "    def forward(self, inputs):\n",
    "        xs = torch.unsqueeze(torch.transpose(inputs, 0, 1), 2)\n",
    "        h1 = torch.relu(torch.matmul(xs, self.ww1))\n",
    "        h2 = torch.relu(torch.matmul(h1, self.ww2))\n",
    "        h3 = torch.matmul(h2, self.ww3)\n",
    "        return torch.sum(torch.squeeze(torch.transpose(h3, 0, 1)), 1)"
   ]
  },
  {
   "cell_type": "code",
   "execution_count": 8,
   "metadata": {
    "ExecuteTime": {
     "end_time": "2021-09-14T10:25:34.757825Z",
     "start_time": "2021-09-14T10:25:34.752796Z"
    }
   },
   "outputs": [],
   "source": [
    "xx = torch.tensor(x, dtype=torch.float)\n",
    "yy = torch.tensor(y, dtype=torch.float)"
   ]
  },
  {
   "cell_type": "code",
   "execution_count": 9,
   "metadata": {
    "ExecuteTime": {
     "end_time": "2021-09-14T10:25:34.761476Z",
     "start_time": "2021-09-14T10:25:34.759389Z"
    }
   },
   "outputs": [],
   "source": [
    "# %%time\n",
    "# clf1 = pyGAM3(K=n_features, n_hidden_nodes=n_nodes, device=\"cpu\")\n",
    "# lossfn = torch.nn.MSELoss()\n",
    "# opt = torch.optim.Adam(clf1.parameters())\n",
    "# for epoch in range(n_epochs):\n",
    "#     opt.zero_grad()\n",
    "#     loss = lossfn(clf1(xx), yy)\n",
    "#     loss.backward()\n",
    "#     opt.step()"
   ]
  },
  {
   "cell_type": "code",
   "execution_count": 10,
   "metadata": {
    "ExecuteTime": {
     "end_time": "2021-09-14T10:25:49.739159Z",
     "start_time": "2021-09-14T10:25:34.763213Z"
    }
   },
   "outputs": [
    {
     "name": "stdout",
     "output_type": "stream",
     "text": [
      "CPU times: user 3min 20s, sys: 8.84 s, total: 3min 29s\n",
      "Wall time: 15 s\n"
     ]
    }
   ],
   "source": [
    "%%time\n",
    "clf2 = pyGAM4(K=n_features, n_hidden_nodes=n_nodes, device=\"cpu\")\n",
    "lossfn = torch.nn.MSELoss()\n",
    "opt = torch.optim.Adam([clf2.ww1, clf2.ww2, clf2.ww3])\n",
    "for epoch in range(n_epochs):\n",
    "    opt.zero_grad()\n",
    "    loss = lossfn(clf2(xx), yy)\n",
    "    loss.backward()\n",
    "    opt.step()"
   ]
  },
  {
   "cell_type": "markdown",
   "metadata": {},
   "source": [
    "## Pytorch compiled"
   ]
  },
  {
   "cell_type": "code",
   "execution_count": 11,
   "metadata": {
    "ExecuteTime": {
     "end_time": "2021-09-14T10:30:27.388102Z",
     "start_time": "2021-09-14T10:25:49.741101Z"
    }
   },
   "outputs": [
    {
     "name": "stdout",
     "output_type": "stream",
     "text": [
      "CPU times: user 46min 59s, sys: 3min 45s, total: 50min 45s\n",
      "Wall time: 4min 37s\n"
     ]
    }
   ],
   "source": [
    "%%time\n",
    "clf1 = torch.jit.script(pyGAM3(K=n_features, n_hidden_nodes=n_nodes, device=\"cpu\"))\n",
    "lossfn = torch.nn.MSELoss()\n",
    "opt = torch.optim.Adam(clf1.parameters())\n",
    "for epoch in range(n_epochs):\n",
    "    opt.zero_grad()\n",
    "    loss = lossfn(clf1(xx), yy)\n",
    "    loss.backward()\n",
    "    opt.step()"
   ]
  },
  {
   "cell_type": "code",
   "execution_count": 12,
   "metadata": {
    "ExecuteTime": {
     "end_time": "2021-09-14T10:31:06.798312Z",
     "start_time": "2021-09-14T10:30:27.390172Z"
    }
   },
   "outputs": [
    {
     "name": "stdout",
     "output_type": "stream",
     "text": [
      "CPU times: user 7min 58s, sys: 40.4 s, total: 8min 39s\n",
      "Wall time: 39.4 s\n"
     ]
    }
   ],
   "source": [
    "%%time\n",
    "clf2 = torch.jit.script(pyGAM4(K=n_features, n_hidden_nodes=n_nodes, device=\"cpu\"))\n",
    "lossfn = torch.nn.MSELoss()\n",
    "opt = torch.optim.Adam([clf2.ww1, clf2.ww2, clf2.ww3])\n",
    "for epoch in range(n_epochs):\n",
    "    opt.zero_grad()\n",
    "    loss = lossfn(clf2(xx), yy)\n",
    "    loss.backward()\n",
    "    opt.step()"
   ]
  },
  {
   "cell_type": "markdown",
   "metadata": {},
   "source": [
    "on GPU"
   ]
  },
  {
   "cell_type": "code",
   "execution_count": 13,
   "metadata": {
    "ExecuteTime": {
     "end_time": "2021-09-14T10:31:30.777558Z",
     "start_time": "2021-09-14T10:31:06.800513Z"
    }
   },
   "outputs": [
    {
     "name": "stderr",
     "output_type": "stream",
     "text": [
      "/home/r7user1/anaconda2_local/envs/py37/lib/python3.7/site-packages/torch/cuda/__init__.py:83: UserWarning: \n",
      "    Found GPU%d %s which is of cuda capability %d.%d.\n",
      "    PyTorch no longer supports this GPU because it is too old.\n",
      "    The minimum cuda capability supported by this library is %d.%d.\n",
      "    \n",
      "  warnings.warn(old_gpu_warn.format(d, name, major, minor, min_arch // 10, min_arch % 10))\n"
     ]
    }
   ],
   "source": [
    "device = torch.device(\"cuda:1\" if torch.cuda.is_available() else \"cpu\")\n",
    "clf1 = pyGAM3(K=n_features, n_hidden_nodes=n_nodes, device=device)\n",
    "\n",
    "lossfn = torch.nn.MSELoss()\n",
    "opt = torch.optim.Adam(clf1.parameters())\n",
    "for epoch in range(n_epochs):\n",
    "    opt.zero_grad()\n",
    "    loss = lossfn(clf1(xx.to(device)), yy.to(device))\n",
    "    loss.backward()\n",
    "    opt.step()"
   ]
  },
  {
   "cell_type": "code",
   "execution_count": 15,
   "metadata": {
    "ExecuteTime": {
     "end_time": "2021-09-14T10:34:10.466222Z",
     "start_time": "2021-09-14T10:32:11.876439Z"
    }
   },
   "outputs": [],
   "source": [
    "device = torch.device(\"cuda:1\" if torch.cuda.is_available() else \"cpu\")\n",
    "clf2 = pyGAM4(K=n_features, n_hidden_nodes=n_nodes, device=device)\n",
    "\n",
    "lossfn = torch.nn.MSELoss()\n",
    "opt = torch.optim.Adam([clf2.ww1, clf2.ww2, clf2.ww3])\n",
    "for epoch in range(n_epochs * 100):\n",
    "    opt.zero_grad()\n",
    "    loss = lossfn(clf2(xx.to(device)), yy.to(device))\n",
    "    loss.backward()\n",
    "    opt.step()"
   ]
  }
 ],
 "metadata": {
  "kernelspec": {
   "display_name": "py37",
   "language": "python",
   "name": "py37"
  },
  "language_info": {
   "codemirror_mode": {
    "name": "ipython",
    "version": 3
   },
   "file_extension": ".py",
   "mimetype": "text/x-python",
   "name": "python",
   "nbconvert_exporter": "python",
   "pygments_lexer": "ipython3",
   "version": "3.7.7"
  },
  "latex_envs": {
   "LaTeX_envs_menu_present": true,
   "autoclose": false,
   "autocomplete": true,
   "bibliofile": "biblio.bib",
   "cite_by": "apalike",
   "current_citInitial": 1,
   "eqLabelWithNumbers": true,
   "eqNumInitial": 1,
   "hotkeys": {
    "equation": "Ctrl-E",
    "itemize": "Ctrl-I"
   },
   "labels_anchors": false,
   "latex_user_defs": false,
   "report_style_numbering": false,
   "user_envs_cfg": false
  },
  "varInspector": {
   "cols": {
    "lenName": 16,
    "lenType": 16,
    "lenVar": 40
   },
   "kernels_config": {
    "python": {
     "delete_cmd_postfix": "",
     "delete_cmd_prefix": "del ",
     "library": "var_list.py",
     "varRefreshCmd": "print(var_dic_list())"
    },
    "r": {
     "delete_cmd_postfix": ") ",
     "delete_cmd_prefix": "rm(",
     "library": "var_list.r",
     "varRefreshCmd": "cat(var_dic_list()) "
    }
   },
   "types_to_exclude": [
    "module",
    "function",
    "builtin_function_or_method",
    "instance",
    "_Feature"
   ],
   "window_display": false
  }
 },
 "nbformat": 4,
 "nbformat_minor": 2
}
