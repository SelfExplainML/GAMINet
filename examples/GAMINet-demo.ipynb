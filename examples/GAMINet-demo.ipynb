{
 "cells": [
  {
   "cell_type": "code",
   "execution_count": 1,
   "metadata": {
    "scrolled": true
   },
   "outputs": [
    {
     "ename": "SyntaxError",
     "evalue": "invalid syntax (gaminet.py, line 595)",
     "output_type": "error",
     "traceback": [
      "Traceback \u001b[0;36m(most recent call last)\u001b[0m:\n",
      "  File \u001b[1;32m\"/home/r7user1/anaconda2_local/envs/tf2/lib/python3.6/site-packages/IPython/core/interactiveshell.py\"\u001b[0m, line \u001b[1;32m3296\u001b[0m, in \u001b[1;35mrun_code\u001b[0m\n    exec(code_obj, self.user_global_ns, self.user_ns)\n",
      "  File \u001b[1;32m\"<ipython-input-1-4a20fe0e33e0>\"\u001b[0m, line \u001b[1;32m8\u001b[0m, in \u001b[1;35m<module>\u001b[0m\n    from gaminet import GAMINet\n",
      "\u001b[0;36m  File \u001b[0;32m\"/home/r7user1/anaconda2_local/envs/tf2/lib/python3.6/site-packages/gaminet/__init__.py\"\u001b[0;36m, line \u001b[0;32m1\u001b[0;36m, in \u001b[0;35m<module>\u001b[0;36m\u001b[0m\n\u001b[0;31m    from .gaminet import GAMINet\u001b[0m\n",
      "\u001b[0;36m  File \u001b[0;32m\"/home/r7user1/anaconda2_local/envs/tf2/lib/python3.6/site-packages/gaminet/gaminet.py\"\u001b[0;36m, line \u001b[0;32m595\u001b[0m\n\u001b[0;31m    'err_val_interaction_tuning'self.:err_val_interaction_tuning,\u001b[0m\n\u001b[0m                                   ^\u001b[0m\n\u001b[0;31mSyntaxError\u001b[0m\u001b[0;31m:\u001b[0m invalid syntax\n"
     ]
    }
   ],
   "source": [
    "import os\n",
    "import numpy as np\n",
    "import tensorflow as tf\n",
    "from matplotlib import pyplot as plt\n",
    "from sklearn.preprocessing import MinMaxScaler\n",
    "from sklearn.model_selection import train_test_split\n",
    "\n",
    "from gaminet import GAMINet\n",
    "from gaminet.utils import feature_importance\n",
    "from gaminet.utils import local_visualize\n",
    "from gaminet.utils import global_visualize_density\n",
    "from gaminet.utils import global_visualize_wo_density"
   ]
  },
  {
   "cell_type": "markdown",
   "metadata": {},
   "source": [
    "## Load data"
   ]
  },
  {
   "cell_type": "code",
   "execution_count": null,
   "metadata": {},
   "outputs": [],
   "source": [
    "def metric_wrapper(metric, scaler):\n",
    "    def wrapper(label, pred):\n",
    "        return metric(label, pred, scaler=scaler)\n",
    "    return wrapper\n",
    "\n",
    "def rmse(label, pred, scaler):\n",
    "    pred = scaler.inverse_transform(pred.reshape([-1, 1]))\n",
    "    label = scaler.inverse_transform(label.reshape([-1, 1]))\n",
    "    return np.sqrt(np.mean((pred - label)**2))\n",
    "\n",
    "def data_generator1(datanum, random_state=0):\n",
    "    \n",
    "    np.random.seed(random_state)\n",
    "    x = np.zeros((datanum, 10))\n",
    "    for i in range(10):\n",
    "        x[:, i:i+1] = np.random.uniform(0, 1,[datanum,1])\n",
    "    x1, x2, x3, x4, x5, x6, x7, x8, x9, x10 = [x[:, [i]] for i in range(10)]\n",
    "\n",
    "    def cliff(x1, x2):\n",
    "        # x1: -20,20\n",
    "        # x2: -10,5\n",
    "        x1 = (2 * x1 - 1) * 20\n",
    "        x2 = (2 * x2 - 1) * 7.5 - 2.5\n",
    "        term1 = -0.5 * x1 ** 2 / 100\n",
    "        term2 = -0.5 * (x2 + 0.03 * x1 ** 2 - 3) ** 2\n",
    "        y = 10 * np.exp(term1 + term2)\n",
    "        return  y\n",
    "\n",
    "    y = (8 * (x1 - 0.5) ** 2\n",
    "         + 0.1 * np.exp(-8 * x2 + 4)\n",
    "         + 3 * np.sin(2 * np.pi * x3 * x4)\n",
    "         + cliff(x5, x6)).reshape([-1,1]) + 1 * np.random.normal(0, 1, [datanum, 1])\n",
    "\n",
    "    task_type = \"Regression\"\n",
    "    meta_info = {\"X1\":{\"type\":'continuous'},\n",
    "             'X2':{'type':'continuous'},\n",
    "             'X3':{'type':'continuous'},\n",
    "             'X4':{'type':'continuous'},\n",
    "             'X5':{'type':'continuous'},\n",
    "             'X6':{'type':'continuous'},\n",
    "             'X7':{'type':'continuous'},\n",
    "             'X8':{'type':'continuous'},\n",
    "             'X9':{'type':'continuous'},\n",
    "             'X10':{'type':'continuous'},\n",
    "             'Y':{'type':'target'}}\n",
    "    for i, (key, item) in enumerate(meta_info.items()):\n",
    "        if item['type'] == 'target':\n",
    "            sy = MinMaxScaler((0, 1))\n",
    "            y = sy.fit_transform(y)\n",
    "            meta_info[key]['scaler'] = sy\n",
    "        else:\n",
    "            sx = MinMaxScaler((0, 1))\n",
    "            sx.fit([[0], [1]])\n",
    "            x[:,[i]] = sx.transform(x[:,[i]])\n",
    "            meta_info[key]['scaler'] = sx\n",
    "\n",
    "    train_x, test_x, train_y, test_y = train_test_split(x, y, test_size=0.2, random_state=random_state)\n",
    "    return train_x, test_x, train_y, test_y, task_type, meta_info, metric_wrapper(rmse, sy)\n",
    "\n",
    "train_x, test_x, train_y, test_y, task_type, meta_info, get_metric = data_generator1(datanum=5000, random_state=0)"
   ]
  },
  {
   "cell_type": "markdown",
   "metadata": {},
   "source": [
    "## Train GAMI-Net "
   ]
  },
  {
   "cell_type": "code",
   "execution_count": null,
   "metadata": {
    "scrolled": true
   },
   "outputs": [],
   "source": [
    "model = GAMINet(meta_info=meta_info, interact_num=20, interact_arch=[20, 10],\n",
    "            subnet_arch=[20, 10], task_type=task_type, activation_func=tf.tanh, main_grid_size=41, interact_grid_size=41,\n",
    "            batch_size=min(500, int(0.2*train_x.shape[0])), lr_bp=0.001, main_effect_epochs=2000,\n",
    "            interaction_epochs=2000, tuning_epochs=50, loss_threshold=0.01,\n",
    "            verbose=True, val_ratio=0.2, early_stop_thres=100)\n",
    "model.fit(train_x, train_y)\n",
    "\n",
    "val_x = train_x[model.val_idx, :]\n",
    "val_y = train_y[model.val_idx, :]\n",
    "tr_x = train_x[model.tr_idx, :]\n",
    "tr_y = train_y[model.tr_idx, :]\n",
    "pred_train = model.predict(tr_x)\n",
    "pred_val = model.predict(val_x)\n",
    "pred_test = model.predict(test_x)\n",
    "gaminet_stat = np.hstack([np.round(get_metric(tr_y, pred_train),5), \n",
    "                      np.round(get_metric(val_y, pred_val),5),\n",
    "                      np.round(get_metric(test_y, pred_test),5)])\n",
    "print(gaminet_stat)"
   ]
  },
  {
   "cell_type": "markdown",
   "metadata": {},
   "source": [
    "## Visualization"
   ]
  },
  {
   "cell_type": "code",
   "execution_count": null,
   "metadata": {},
   "outputs": [],
   "source": [
    "simu_dir = \"./results/\"\n",
    "if not os.path.exists(simu_dir):\n",
    "    os.makedirs(simu_dir)"
   ]
  },
  {
   "cell_type": "code",
   "execution_count": null,
   "metadata": {
    "scrolled": true
   },
   "outputs": [],
   "source": [
    "feature_importance(data_dict, save_png=True, folder=simu_dir, name='s1_feature')"
   ]
  },
  {
   "cell_type": "code",
   "execution_count": null,
   "metadata": {},
   "outputs": [],
   "source": [
    "data_dict = model.global_explain(save_dict=False)\n",
    "global_visualize_wo_density(data_dict, save_png=True, folder=simu_dir, name='s1_global')"
   ]
  },
  {
   "cell_type": "code",
   "execution_count": null,
   "metadata": {},
   "outputs": [],
   "source": [
    "data_dict_local = model.local_explain(train_x[[0]], train_y[[0]], save_dict=False)\n",
    "local_visualize(data_dict_local, save_png=True, folder=simu_dir, name='s1_local')"
   ]
  },
  {
   "cell_type": "code",
   "execution_count": null,
   "metadata": {},
   "outputs": [],
   "source": [
    "data_dict_logs = model.summary_logs(save_dict=False, folder=folder, name=\"s1_logs\")\n",
    "plot_trajectory(data_dict_logs, folder=folder, name=\"s1_traj_plot\", log_scale=True, save_png=True, save_eps=False)\n",
    "plot_regularization(data_dict_logs, folder=folder, name=\"s1_regu_plot\", log_scale=True, save_png=True, save_eps=False)"
   ]
  }
 ],
 "metadata": {
  "kernelspec": {
   "display_name": "Python (tf2)",
   "language": "python",
   "name": "tf2"
  },
  "language_info": {
   "codemirror_mode": {
    "name": "ipython",
    "version": 3
   },
   "file_extension": ".py",
   "mimetype": "text/x-python",
   "name": "python",
   "nbconvert_exporter": "python",
   "pygments_lexer": "ipython3",
   "version": "3.6.8"
  }
 },
 "nbformat": 4,
 "nbformat_minor": 2
}
