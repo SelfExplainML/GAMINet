{
 "cells": [
  {
   "cell_type": "code",
   "execution_count": 1,
   "metadata": {
    "ExecuteTime": {
     "end_time": "2021-10-09T10:24:26.749088Z",
     "start_time": "2021-10-09T10:24:23.999000Z"
    },
    "scrolled": true
   },
   "outputs": [],
   "source": [
    "import os\n",
    "import numpy as np\n",
    "import tensorflow as tf\n",
    "from sklearn.preprocessing import MinMaxScaler\n",
    "from sklearn.model_selection import train_test_split\n",
    "\n",
    "from gaminet import GAMINet\n",
    "from gaminet.utils import local_visualize\n",
    "from gaminet.utils import global_visualize_density\n",
    "from gaminet.utils import feature_importance_visualize\n",
    "from gaminet.utils import plot_trajectory\n",
    "from gaminet.utils import plot_regularization"
   ]
  },
  {
   "cell_type": "markdown",
   "metadata": {},
   "source": [
    "## Load data"
   ]
  },
  {
   "cell_type": "code",
   "execution_count": 2,
   "metadata": {
    "ExecuteTime": {
     "end_time": "2021-10-09T10:24:31.406114Z",
     "start_time": "2021-10-09T10:24:26.751625Z"
    }
   },
   "outputs": [],
   "source": [
    "def metric_wrapper(metric, scaler):\n",
    "    def wrapper(label, pred):\n",
    "        return metric(label, pred, scaler=scaler)\n",
    "    return wrapper\n",
    "\n",
    "def rmse(label, pred, scaler):\n",
    "    pred = scaler.inverse_transform(pred.reshape([-1, 1]))\n",
    "    label = scaler.inverse_transform(label.reshape([-1, 1]))\n",
    "    return np.sqrt(np.mean((pred - label)**2))\n",
    "\n",
    "def data_generator1(datanum, dist=\"uniform\", random_state=0):\n",
    "    \n",
    "    nfeatures = 100\n",
    "    np.random.seed(random_state)\n",
    "    x = np.random.uniform(0, 1, [datanum, nfeatures])\n",
    "    x1, x2, x3, x4, x5, x6 = [x[:, [i]] for i in range(6)]\n",
    "\n",
    "    def cliff(x1, x2):\n",
    "        # x1: -20,20\n",
    "        # x2: -10,5\n",
    "        x1 = (2 * x1 - 1) * 20\n",
    "        x2 = (2 * x2 - 1) * 7.5 - 2.5\n",
    "        term1 = -0.5 * x1 ** 2 / 100\n",
    "        term2 = -0.5 * (x2 + 0.03 * x1 ** 2 - 3) ** 2\n",
    "        y = 10 * np.exp(term1 + term2)\n",
    "        return  y\n",
    "\n",
    "    y = (8 * (x1 - 0.5) ** 2\n",
    "        + 0.1 * np.exp(-8 * x2 + 4)\n",
    "        + 3 * np.sin(2 * np.pi * x3 * x4)\n",
    "        + cliff(x5, x6)).reshape([-1,1]) + 1 * np.random.normal(0, 1, [datanum, 1])\n",
    "\n",
    "    task_type = \"Regression\"\n",
    "    meta_info = {\"X\" + str(i + 1):{'type':'continuous'} for i in range(nfeatures)}\n",
    "    meta_info.update({'Y':{'type':'target'}})         \n",
    "    for i, (key, item) in enumerate(meta_info.items()):\n",
    "        if item['type'] == 'target':\n",
    "            sy = MinMaxScaler((0, 1))\n",
    "            y = sy.fit_transform(y)\n",
    "            meta_info[key]['scaler'] = sy\n",
    "        else:\n",
    "            sx = MinMaxScaler((0, 1))\n",
    "            sx.fit([[0], [1]])\n",
    "            x[:,[i]] = sx.transform(x[:,[i]])\n",
    "            meta_info[key]['scaler'] = sx\n",
    "\n",
    "    train_x, test_x, train_y, test_y = train_test_split(x, y, test_size=0.2, random_state=random_state)\n",
    "    return train_x, test_x, train_y, test_y, task_type, meta_info, metric_wrapper(rmse, sy)\n",
    "\n",
    "random_state = 0\n",
    "train_x, test_x, train_y, test_y, task_type, meta_info, get_metric = data_generator1(datanum=1000000, random_state=random_state)"
   ]
  },
  {
   "cell_type": "markdown",
   "metadata": {},
   "source": [
    "## Train GAMI-Net "
   ]
  },
  {
   "cell_type": "code",
   "execution_count": 3,
   "metadata": {
    "ExecuteTime": {
     "end_time": "2021-10-09T10:24:31.843532Z",
     "start_time": "2021-10-09T10:24:31.409885Z"
    },
    "scrolled": true
   },
   "outputs": [
    {
     "ename": "AttributeError",
     "evalue": "'GAMINet' object has no attribute 'con_list'",
     "output_type": "error",
     "traceback": [
      "\u001b[0;31m---------------------------------------------------------------------------\u001b[0m",
      "\u001b[0;31mAttributeError\u001b[0m                            Traceback (most recent call last)",
      "\u001b[0;32m<ipython-input-3-37b690d83f84>\u001b[0m in \u001b[0;36m<module>\u001b[0;34m\u001b[0m\n\u001b[1;32m      5\u001b[0m                 \u001b[0mlr_bp\u001b[0m\u001b[0;34m=\u001b[0m\u001b[0;34m[\u001b[0m\u001b[0;36m0.0001\u001b[0m\u001b[0;34m,\u001b[0m \u001b[0;36m0.0001\u001b[0m\u001b[0;34m,\u001b[0m \u001b[0;36m0.0001\u001b[0m\u001b[0;34m]\u001b[0m\u001b[0;34m,\u001b[0m \u001b[0mearly_stop_thres\u001b[0m\u001b[0;34m=\u001b[0m\u001b[0;34m[\u001b[0m\u001b[0;36m50\u001b[0m\u001b[0;34m,\u001b[0m \u001b[0;36m50\u001b[0m\u001b[0;34m,\u001b[0m \u001b[0;36m50\u001b[0m\u001b[0;34m]\u001b[0m\u001b[0;34m,\u001b[0m\u001b[0;34m\u001b[0m\u001b[0;34m\u001b[0m\u001b[0m\n\u001b[1;32m      6\u001b[0m                 \u001b[0mheredity\u001b[0m\u001b[0;34m=\u001b[0m\u001b[0;32mTrue\u001b[0m\u001b[0;34m,\u001b[0m \u001b[0mloss_threshold\u001b[0m\u001b[0;34m=\u001b[0m\u001b[0;36m0.01\u001b[0m\u001b[0;34m,\u001b[0m \u001b[0mreg_clarity\u001b[0m\u001b[0;34m=\u001b[0m\u001b[0;36m1\u001b[0m\u001b[0;34m,\u001b[0m\u001b[0;34m\u001b[0m\u001b[0;34m\u001b[0m\u001b[0m\n\u001b[0;32m----> 7\u001b[0;31m                 verbose=True, val_ratio=0.2, random_state=random_state)\n\u001b[0m\u001b[1;32m      8\u001b[0m \u001b[0mmodel\u001b[0m\u001b[0;34m.\u001b[0m\u001b[0mfit\u001b[0m\u001b[0;34m(\u001b[0m\u001b[0mtrain_x\u001b[0m\u001b[0;34m,\u001b[0m \u001b[0mtrain_y\u001b[0m\u001b[0;34m)\u001b[0m\u001b[0;34m\u001b[0m\u001b[0;34m\u001b[0m\u001b[0m\n\u001b[1;32m      9\u001b[0m \u001b[0;34m\u001b[0m\u001b[0m\n",
      "\u001b[0;32m~/anaconda2_local/envs/py37/lib/python3.7/site-packages/gaminet/gaminet.py\u001b[0m in \u001b[0;36m__init__\u001b[0;34m(self, meta_info, interact_num, subnet_arch, interact_arch, lr_bp, batch_size, task_type, activation_func, main_effect_epochs, interaction_epochs, tuning_epochs, early_stop_thres, heredity, reg_clarity, loss_threshold, val_ratio, mono_increasing_list, mono_decreasing_list, convex_list, concave_list, lattice_size, verbose, random_state)\u001b[0m\n\u001b[1;32m    115\u001b[0m                                  \u001b[0mactivation_func\u001b[0m\u001b[0;34m=\u001b[0m\u001b[0mself\u001b[0m\u001b[0;34m.\u001b[0m\u001b[0mactivation_func\u001b[0m\u001b[0;34m,\u001b[0m\u001b[0;34m\u001b[0m\u001b[0;34m\u001b[0m\u001b[0m\n\u001b[1;32m    116\u001b[0m                                  \u001b[0mmono_list\u001b[0m\u001b[0;34m=\u001b[0m\u001b[0mself\u001b[0m\u001b[0;34m.\u001b[0m\u001b[0mmono_list\u001b[0m\u001b[0;34m,\u001b[0m\u001b[0;34m\u001b[0m\u001b[0;34m\u001b[0m\u001b[0m\n\u001b[0;32m--> 117\u001b[0;31m                                  \u001b[0mcon_list\u001b[0m\u001b[0;34m=\u001b[0m\u001b[0mself\u001b[0m\u001b[0;34m.\u001b[0m\u001b[0mcon_list\u001b[0m\u001b[0;34m,\u001b[0m\u001b[0;34m\u001b[0m\u001b[0;34m\u001b[0m\u001b[0m\n\u001b[0m\u001b[1;32m    118\u001b[0m                                  lattice_size=self.lattice_size)\n\u001b[1;32m    119\u001b[0m         self.interact_blocks = InteractionBlock(interact_num=self.interact_num,\n",
      "\u001b[0;31mAttributeError\u001b[0m: 'GAMINet' object has no attribute 'con_list'"
     ]
    }
   ],
   "source": [
    "model = GAMINet(meta_info=meta_info, interact_num=20, \n",
    "                interact_arch=[40] * 5, subnet_arch=[40] * 5, \n",
    "                batch_size=200, task_type=task_type, activation_func=tf.nn.relu, \n",
    "                main_effect_epochs=500, interaction_epochs=500, tuning_epochs=500, \n",
    "                lr_bp=[0.0001, 0.0001, 0.0001], early_stop_thres=[50, 50, 50],\n",
    "                heredity=True, loss_threshold=0.01, reg_clarity=1,\n",
    "                verbose=True, val_ratio=0.2, random_state=random_state)\n",
    "model.fit(train_x, train_y)\n",
    "\n",
    "val_x = train_x[model.val_idx, :]\n",
    "val_y = train_y[model.val_idx, :]\n",
    "tr_x = train_x[model.tr_idx, :]\n",
    "tr_y = train_y[model.tr_idx, :]\n",
    "pred_train = model.predict(tr_x)\n",
    "pred_val = model.predict(val_x)\n",
    "pred_test = model.predict(test_x)\n",
    "gaminet_stat = np.hstack([np.round(get_metric(tr_y, pred_train),5), \n",
    "                      np.round(get_metric(val_y, pred_val),5),\n",
    "                      np.round(get_metric(test_y, pred_test),5)])\n",
    "print(gaminet_stat)"
   ]
  },
  {
   "cell_type": "markdown",
   "metadata": {},
   "source": [
    "## Visualization"
   ]
  },
  {
   "cell_type": "code",
   "execution_count": null,
   "metadata": {
    "ExecuteTime": {
     "end_time": "2021-10-09T10:24:31.847741Z",
     "start_time": "2021-10-09T10:24:23.408Z"
    }
   },
   "outputs": [],
   "source": [
    "simu_dir = \"./results/\"\n",
    "if not os.path.exists(simu_dir):\n",
    "    os.makedirs(simu_dir)"
   ]
  },
  {
   "cell_type": "markdown",
   "metadata": {},
   "source": [
    "Training details"
   ]
  },
  {
   "cell_type": "code",
   "execution_count": null,
   "metadata": {
    "ExecuteTime": {
     "end_time": "2021-10-09T10:24:31.848687Z",
     "start_time": "2021-10-09T10:24:23.411Z"
    },
    "scrolled": true
   },
   "outputs": [],
   "source": [
    "data_dict_logs = model.summary_logs(save_dict=False)\n",
    "plot_trajectory(data_dict_logs, folder=simu_dir, name=\"s1_traj_plot\", log_scale=True, save_png=True, save_eps=False)\n",
    "plot_regularization(data_dict_logs, folder=simu_dir, name=\"s1_regu_plot\", log_scale=True, save_png=True, save_eps=False)"
   ]
  },
  {
   "cell_type": "markdown",
   "metadata": {},
   "source": [
    "Global Visualization"
   ]
  },
  {
   "cell_type": "code",
   "execution_count": null,
   "metadata": {
    "ExecuteTime": {
     "end_time": "2021-10-09T10:24:31.849396Z",
     "start_time": "2021-10-09T10:24:23.414Z"
    },
    "scrolled": false
   },
   "outputs": [],
   "source": [
    "data_dict_global = model.global_explain(save_dict=False)\n",
    "global_visualize_density(data_dict_global, save_png=True, folder=simu_dir, name='s1_global')"
   ]
  },
  {
   "cell_type": "markdown",
   "metadata": {},
   "source": [
    "Feature Importance"
   ]
  },
  {
   "cell_type": "code",
   "execution_count": null,
   "metadata": {
    "ExecuteTime": {
     "end_time": "2021-10-09T10:24:31.850108Z",
     "start_time": "2021-10-09T10:24:23.416Z"
    },
    "scrolled": true
   },
   "outputs": [],
   "source": [
    "feature_importance_visualize(data_dict_global, save_png=True, folder=simu_dir, name='s1_feature')"
   ]
  },
  {
   "cell_type": "markdown",
   "metadata": {},
   "source": [
    "Local Visualization"
   ]
  },
  {
   "cell_type": "code",
   "execution_count": null,
   "metadata": {
    "ExecuteTime": {
     "end_time": "2021-10-09T10:24:31.851057Z",
     "start_time": "2021-10-09T10:24:23.419Z"
    },
    "scrolled": true
   },
   "outputs": [],
   "source": [
    "data_dict_local = model.local_explain(train_x[:10], train_y[:10], save_dict=False)"
   ]
  },
  {
   "cell_type": "code",
   "execution_count": null,
   "metadata": {
    "ExecuteTime": {
     "end_time": "2021-10-09T10:24:31.851808Z",
     "start_time": "2021-10-09T10:24:23.420Z"
    }
   },
   "outputs": [],
   "source": [
    "local_visualize(data_dict_local[0], save_png=True, folder=simu_dir, name='s1_local')"
   ]
  },
  {
   "cell_type": "code",
   "execution_count": null,
   "metadata": {
    "ExecuteTime": {
     "end_time": "2021-10-09T10:24:31.852665Z",
     "start_time": "2021-10-09T10:24:23.421Z"
    }
   },
   "outputs": [],
   "source": [
    "local_visualize(data_dict_local[1], save_png=True, folder=simu_dir, name='s1_local')"
   ]
  },
  {
   "cell_type": "markdown",
   "metadata": {},
   "source": [
    "## Model save and load "
   ]
  },
  {
   "cell_type": "code",
   "execution_count": null,
   "metadata": {
    "ExecuteTime": {
     "end_time": "2021-10-09T10:24:31.853378Z",
     "start_time": "2021-10-09T10:24:23.424Z"
    }
   },
   "outputs": [],
   "source": [
    "model.save(folder=\"./\", name=\"model_saved\")"
   ]
  },
  {
   "cell_type": "code",
   "execution_count": null,
   "metadata": {
    "ExecuteTime": {
     "end_time": "2021-10-09T10:24:31.854682Z",
     "start_time": "2021-10-09T10:24:23.426Z"
    }
   },
   "outputs": [],
   "source": [
    "## The reloaded model should not be refit again\n",
    "modelnew = GAMINet(meta_info={})\n",
    "modelnew.load(folder=\"./\", name=\"model_saved\")"
   ]
  },
  {
   "cell_type": "markdown",
   "metadata": {},
   "source": [
    "# Shape constraints"
   ]
  },
  {
   "cell_type": "code",
   "execution_count": null,
   "metadata": {
    "ExecuteTime": {
     "end_time": "2021-10-09T10:24:31.855641Z",
     "start_time": "2021-10-09T10:24:23.429Z"
    }
   },
   "outputs": [],
   "source": [
    "model = GAMINet(meta_info=meta_info, interact_num=20, \n",
    "                interact_arch=[40] * 5, subnet_arch=[40] * 5, \n",
    "                batch_size=200, task_type=task_type, activation_func=tf.nn.relu, \n",
    "                main_effect_epochs=500, interaction_epochs=500, tuning_epochs=500, \n",
    "                lr_bp=[0.0001, 0.0001, 0.0001], early_stop_thres=[50, 50, 50],\n",
    "                heredity=True, loss_threshold=0.01, reg_clarity=1,\n",
    "                mono_increasing_list=None,\n",
    "                mono_decreasing_list=[1],\n",
    "                convex_list=[0],\n",
    "                concave_list=[2, 3, 4, 5],\n",
    "                verbose=True, val_ratio=0.2, random_state=random_state)\n",
    "model.fit(train_x, train_y)"
   ]
  },
  {
   "cell_type": "code",
   "execution_count": null,
   "metadata": {
    "ExecuteTime": {
     "end_time": "2021-10-09T10:24:31.856390Z",
     "start_time": "2021-10-09T10:24:23.430Z"
    }
   },
   "outputs": [],
   "source": [
    "data_dict_global = model.global_explain(save_dict=False)\n",
    "global_visualize_density(data_dict_global, save_png=False)"
   ]
  }
 ],
 "metadata": {
  "kernelspec": {
   "display_name": "py37",
   "language": "python",
   "name": "py37"
  },
  "language_info": {
   "codemirror_mode": {
    "name": "ipython",
    "version": 3
   },
   "file_extension": ".py",
   "mimetype": "text/x-python",
   "name": "python",
   "nbconvert_exporter": "python",
   "pygments_lexer": "ipython3",
   "version": "3.7.7"
  },
  "latex_envs": {
   "LaTeX_envs_menu_present": true,
   "autoclose": false,
   "autocomplete": true,
   "bibliofile": "biblio.bib",
   "cite_by": "apalike",
   "current_citInitial": 1,
   "eqLabelWithNumbers": true,
   "eqNumInitial": 1,
   "hotkeys": {
    "equation": "Ctrl-E",
    "itemize": "Ctrl-I"
   },
   "labels_anchors": false,
   "latex_user_defs": false,
   "report_style_numbering": false,
   "user_envs_cfg": false
  },
  "varInspector": {
   "cols": {
    "lenName": 16,
    "lenType": 16,
    "lenVar": 40
   },
   "kernels_config": {
    "python": {
     "delete_cmd_postfix": "",
     "delete_cmd_prefix": "del ",
     "library": "var_list.py",
     "varRefreshCmd": "print(var_dic_list())"
    },
    "r": {
     "delete_cmd_postfix": ") ",
     "delete_cmd_prefix": "rm(",
     "library": "var_list.r",
     "varRefreshCmd": "cat(var_dic_list()) "
    }
   },
   "types_to_exclude": [
    "module",
    "function",
    "builtin_function_or_method",
    "instance",
    "_Feature"
   ],
   "window_display": false
  }
 },
 "nbformat": 4,
 "nbformat_minor": 2
}
