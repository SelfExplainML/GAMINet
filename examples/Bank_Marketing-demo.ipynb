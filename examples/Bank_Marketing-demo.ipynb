{
 "cells": [
  {
   "cell_type": "code",
   "execution_count": 1,
   "metadata": {
    "ExecuteTime": {
     "end_time": "2021-06-05T06:20:10.819399Z",
     "start_time": "2021-06-05T06:20:07.744816Z"
    }
   },
   "outputs": [],
   "source": [
    "import os\n",
    "import numpy as np\n",
    "import pandas as pd\n",
    "import tensorflow as tf\n",
    "from sklearn.metrics import roc_auc_score\n",
    "from sklearn.model_selection import train_test_split\n",
    "from sklearn.preprocessing import OrdinalEncoder, MinMaxScaler\n",
    "\n",
    "from gaminet import GAMINet\n",
    "from gaminet.utils import local_visualize\n",
    "from gaminet.utils import global_visualize_density\n",
    "from gaminet.utils import global_visualize_wo_density\n",
    "from gaminet.utils import feature_importance_visualize\n",
    "from gaminet.utils import plot_regularization\n",
    "from gaminet.utils import plot_trajectory"
   ]
  },
  {
   "cell_type": "code",
   "execution_count": 2,
   "metadata": {
    "ExecuteTime": {
     "end_time": "2021-06-05T06:20:11.198614Z",
     "start_time": "2021-06-05T06:20:10.821109Z"
    }
   },
   "outputs": [],
   "source": [
    "task_type = \"Classification\"\n",
    "\n",
    "data = pd.read_csv(\"./bank.csv\", sep=\";\")\n",
    "meta_info = json.load(open(\"./data_types.json\"))\n",
    "data['month'] = data['month'].replace('jan', 1).replace('feb', 2).replace('mar', 3).replace('apr', 4).\\\n",
    "                              replace('may', 5).replace('jun', 6).replace('jul', 7).replace('aug', 8).\\\n",
    "                              replace('sep', 9).replace('oct', 10).replace('nov', 11).replace('dec', 12)\n",
    "x, y = data.iloc[:,:-1].values, data.iloc[:,[-1]].values\n",
    "xx = np.zeros((x.shape[0], x.shape[1]), dtype=np.float32)\n",
    "for i, (key, item) in enumerate(meta_info.items()):\n",
    "    if item['type'] == 'target':\n",
    "        enc = OrdinalEncoder()\n",
    "        enc.fit(y)\n",
    "        y = enc.transform(y)\n",
    "        meta_info[key]['values'] = enc.categories_[0].tolist()\n",
    "    elif item['type'] == 'categorical':\n",
    "        enc = OrdinalEncoder()\n",
    "        xx[:,[i]] = enc.fit_transform(x[:,[i]])\n",
    "        meta_info[key]['values'] = []\n",
    "        for item in enc.categories_[0].tolist():\n",
    "            try:\n",
    "                if item == int(item):\n",
    "                    meta_info[key]['values'].append(str(int(item)))\n",
    "                else:\n",
    "                    meta_info[key]['values'].append(str(item))\n",
    "            except ValueError:\n",
    "                meta_info[key]['values'].append(str(item))\n",
    "    else:\n",
    "        sx = MinMaxScaler((0, 1))\n",
    "        xx[:,[i]] = sx.fit_transform(x[:,[i]])\n",
    "        meta_info[key]['scaler'] = sx\n",
    "train_x, test_x, train_y, test_y = train_test_split(xx.astype(np.float32), y, test_size=0.2, random_state=0)"
   ]
  },
  {
   "cell_type": "code",
   "execution_count": 3,
   "metadata": {
    "ExecuteTime": {
     "end_time": "2021-06-05T06:20:11.203936Z",
     "start_time": "2021-06-05T06:20:11.200764Z"
    }
   },
   "outputs": [],
   "source": [
    "def metric_wrapper(metric, scaler):\n",
    "    def wrapper(label, pred):\n",
    "        return metric(label, pred, scaler=scaler)\n",
    "    return wrapper\n",
    "\n",
    "def auc(label, pred, scaler=None):\n",
    "    return roc_auc_score(label, pred)\n",
    "\n",
    "get_metric = metric_wrapper(auc, None)"
   ]
  },
  {
   "cell_type": "code",
   "execution_count": null,
   "metadata": {
    "ExecuteTime": {
     "start_time": "2021-06-05T06:20:09.841Z"
    }
   },
   "outputs": [],
   "source": [
    "folder = \"./results/\"\n",
    "if not os.path.exists(folder):\n",
    "    os.makedirs(folder)\n",
    "\n",
    "model_bank = GAMINet(meta_info=meta_info, interact_num=20,\n",
    "            interact_arch=[40] * 5, subnet_arch=[40] * 5, \n",
    "            lr_bp=0.0001, batch_size=200, task_type=task_type, activation_func=tf.nn.relu, \n",
    "            main_effect_epochs=5000, interaction_epochs=5000, tuning_epochs=500, early_stop_thres=50,\n",
    "            heredity=True, loss_threshold=0.01, reg_clarity=0.1,\n",
    "            verbose=False, val_ratio=0.2, random_state=0)\n",
    "model_bank.fit(train_x, train_y)\n",
    "data_dict_logs = model_bank.summary_logs(save_dict=False)\n",
    "plot_trajectory(data_dict_logs, folder=folder, name=\"bank_traj\", save_png=True, save_eps=True)\n",
    "plot_regularization(data_dict_logs, folder=folder, name=\"bank_regu\", save_png=True, save_eps=True)"
   ]
  },
  {
   "cell_type": "markdown",
   "metadata": {},
   "source": [
    "Global Interpretation"
   ]
  },
  {
   "cell_type": "code",
   "execution_count": null,
   "metadata": {
    "ExecuteTime": {
     "start_time": "2021-06-05T06:20:09.865Z"
    }
   },
   "outputs": [],
   "source": [
    "data_dict_global = model_bank.global_explain(save_dict=True, folder=folder, name=\"bank_global\")\n",
    "global_visualize_density(data_dict_global, folder=folder, name=\"bank_global\",\n",
    "                         main_effect_num=8, interaction_num=4, cols_per_row=4, save_png=True, save_eps=True)"
   ]
  },
  {
   "cell_type": "markdown",
   "metadata": {},
   "source": [
    "Feature Importance"
   ]
  },
  {
   "cell_type": "code",
   "execution_count": null,
   "metadata": {
    "ExecuteTime": {
     "start_time": "2021-06-05T06:20:09.886Z"
    }
   },
   "outputs": [],
   "source": [
    "feature_importance_visualize(data_dict_global)"
   ]
  },
  {
   "cell_type": "markdown",
   "metadata": {},
   "source": [
    "Interpret the prediction of a test sample"
   ]
  },
  {
   "cell_type": "code",
   "execution_count": null,
   "metadata": {
    "ExecuteTime": {
     "start_time": "2021-06-05T06:20:09.909Z"
    }
   },
   "outputs": [],
   "source": [
    "data_dict_local = model_bank.local_explain(test_x[[0]], test_y[[0]], save_dict=False)\n",
    "local_visualize(data_dict_local, save_png=False)"
   ]
  }
 ],
 "metadata": {
  "kernelspec": {
   "display_name": "py37",
   "language": "python",
   "name": "py37"
  },
  "language_info": {
   "codemirror_mode": {
    "name": "ipython",
    "version": 3
   },
   "file_extension": ".py",
   "mimetype": "text/x-python",
   "name": "python",
   "nbconvert_exporter": "python",
   "pygments_lexer": "ipython3",
   "version": "3.7.7"
  },
  "latex_envs": {
   "LaTeX_envs_menu_present": true,
   "autoclose": false,
   "autocomplete": true,
   "bibliofile": "biblio.bib",
   "cite_by": "apalike",
   "current_citInitial": 1,
   "eqLabelWithNumbers": true,
   "eqNumInitial": 1,
   "hotkeys": {
    "equation": "Ctrl-E",
    "itemize": "Ctrl-I"
   },
   "labels_anchors": false,
   "latex_user_defs": false,
   "report_style_numbering": false,
   "user_envs_cfg": false
  },
  "varInspector": {
   "cols": {
    "lenName": 16,
    "lenType": 16,
    "lenVar": 40
   },
   "kernels_config": {
    "python": {
     "delete_cmd_postfix": "",
     "delete_cmd_prefix": "del ",
     "library": "var_list.py",
     "varRefreshCmd": "print(var_dic_list())"
    },
    "r": {
     "delete_cmd_postfix": ") ",
     "delete_cmd_prefix": "rm(",
     "library": "var_list.r",
     "varRefreshCmd": "cat(var_dic_list()) "
    }
   },
   "types_to_exclude": [
    "module",
    "function",
    "builtin_function_or_method",
    "instance",
    "_Feature"
   ],
   "window_display": false
  }
 },
 "nbformat": 4,
 "nbformat_minor": 2
}
